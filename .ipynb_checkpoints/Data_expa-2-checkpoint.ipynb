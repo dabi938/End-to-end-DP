{
 "cells": [
  {
   "cell_type": "code",
   "execution_count": 6,
   "id": "e752a417-260c-4b87-963b-10b7ac011e19",
   "metadata": {},
   "outputs": [],
   "source": [
    "import pandas as pd\n",
    "import random\n",
    "import numpy as np\n",
    "from datetime import timedelta"
   ]
  },
  {
   "cell_type": "code",
   "execution_count": null,
   "id": "cc978870-d210-43e6-95c6-db1a50564049",
   "metadata": {},
   "outputs": [],
   "source": [
    "# Load the original XLSX dataset\n",
    "file_path = 'online_retail.xlsx'  # Replace with your file path\n",
    "data = pd.read_excel(file_path)"
   ]
  },
  {
   "cell_type": "code",
   "execution_count": null,
   "id": "ff8c6122-e17e-4ac2-b904-513c2f348bbb",
   "metadata": {},
   "outputs": [],
   "source": [
    "# Define the number of additional records to generate\n",
    "original_size = len(data)\n",
    "desired_size = 1_001_200\n",
    "additional_records = desired_size - original_size"
   ]
  },
  {
   "cell_type": "code",
   "execution_count": null,
   "id": "90cac4ed-1601-42a7-abb4-9cb4a8c0dfe0",
   "metadata": {},
   "outputs": [],
   "source": [
    "# Generate synthetic data\n",
    "synthetic_data = pd.DataFrame()\n",
    "\n",
    "# Randomly generate Invoice Numbers\n",
    "synthetic_data['InvoiceNo'] = [\n",
    "    f\"{random.randint(500000, 999999)}-{random.randint(1, 99)}\" \n",
    "    for _ in range(additional_records)\n",
    "]"
   ]
  },
  {
   "cell_type": "code",
   "execution_count": null,
   "id": "c93a1fd1-d7c4-4bba-bbab-f39e3684ddd4",
   "metadata": {},
   "outputs": [],
   "source": [
    "# Randomly sample stock codes and descriptions\n",
    "synthetic_data['StockCode'] = np.random.choice(data['StockCode'], additional_records)\n",
    "synthetic_data['Description'] = synthetic_data['StockCode'].map(\n",
    "    dict(zip(data['StockCode'], data['Description']))\n",
    ")\n",
    "\n",
    "# Generate random quantities (positive and negative for returns)\n",
    "synthetic_data['Quantity'] = np.random.randint(-20, 50, additional_records)"
   ]
  },
  {
   "cell_type": "code",
   "execution_count": null,
   "id": "72546f34-5529-46e6-b226-202de0762478",
   "metadata": {},
   "outputs": [],
   "source": [
    "# Generate realistic unit prices with random noise\n",
    "synthetic_data['UnitPrice'] = np.random.choice(data['UnitPrice'], additional_records) + np.random.uniform(-0.5, 0.5, additional_records)\n",
    "\n",
    "# Randomly generate dates within the same range as the original dataset\n",
    "start_date = data['InvoiceDate'].min()\n",
    "end_date = data['InvoiceDate'].max()\n",
    "synthetic_data['InvoiceDate'] = [\n",
    "    start_date + timedelta(days=random.randint(0, (end_date - start_date).days))\n",
    "    for _ in range(additional_records)\n",
    "]"
   ]
  },
  {
   "cell_type": "code",
   "execution_count": null,
   "id": "fbbdd5e2-4ee3-475f-9819-13244a249281",
   "metadata": {},
   "outputs": [],
   "source": [
    "# Generate Customer IDs and Countries\n",
    "synthetic_data['CustomerID'] = np.random.choice(data['CustomerID'], additional_records)\n",
    "synthetic_data['Country'] = np.random.choice(data['Country'], additional_records)\n",
    "\n",
    "# Combine original and synthetic datasets\n",
    "expanded_data = pd.concat([data, synthetic_data], ignore_index=True)"
   ]
  },
  {
   "cell_type": "code",
   "execution_count": null,
   "id": "e7e9587b-bcdb-4bfe-9cd6-0b26b643dd73",
   "metadata": {},
   "outputs": [],
   "source": [
    "# Save the expanded dataset to a CSV file\n",
    "expanded_data.to_csv('expanded_online_retail.csv', index=False)\n",
    "\n",
    "print(f\"Dataset expanded to {len(expanded_data)} records and saved as 'expanded_online_retail.csv'\")"
   ]
  },
  {
   "cell_type": "code",
   "execution_count": null,
   "id": "733a8906-2c2a-4541-a390-11cacd5fe0ac",
   "metadata": {},
   "outputs": [],
   "source": []
  }
 ],
 "metadata": {
  "kernelspec": {
   "display_name": "Python 3 (ipykernel)",
   "language": "python",
   "name": "python3"
  },
  "language_info": {
   "codemirror_mode": {
    "name": "ipython",
    "version": 3
   },
   "file_extension": ".py",
   "mimetype": "text/x-python",
   "name": "python",
   "nbconvert_exporter": "python",
   "pygments_lexer": "ipython3",
   "version": "3.12.2"
  }
 },
 "nbformat": 4,
 "nbformat_minor": 5
}
