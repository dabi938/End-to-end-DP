{
 "cells": [
  {
   "cell_type": "code",
   "execution_count": null,
   "id": "25a9c9c3-56a4-45ff-a94c-1d10e30d5319",
   "metadata": {},
   "outputs": [],
   "source": [
    "import pandas as pd\n",
    "import psycopg2\n",
    "from telethon import TelegramClient\n",
    "from telethon.sessions import StringSession\n",
    "import asyncio"
   ]
  },
  {
   "cell_type": "code",
   "execution_count": null,
   "id": "35a53e86-8b34-4eb2-bce4-dcff7c26138a",
   "metadata": {},
   "outputs": [],
   "source": [
    "# Telegram API Credentials (Replace with your values)\n",
    "api_id = \"25516266\"\n",
    "api_hash = \"fa60997cc6b272938bb894a93df300e5\"\n",
    "\n",
    "# PostgreSQL Credentials\n",
    "DB_NAME = \"E2E-DP\"\n",
    "DB_USER = \"postgres\"\n",
    "DB_PASSWORD = \"postgres\"\n",
    "DB_HOST = \"localhost\"\n",
    "DB_PORT = \"5432\"\n",
    "\n",
    "try:\n",
    "    # Connect to PostgreSQL Database\n",
    "    conn = psycopg2.connect(\n",
    "        dbname=DB_NAME, user=DB_USER, password=DB_PASSWORD, host=DB_HOST, port=DB_PORT\n",
    "    )\n",
    "    cursor = conn.cursor()\n",
    "    print(\"Connected to PostgreSQL\")\n",
    "except Exception as e:\n",
    "    print(\"Error connecting to PostgreSQL:\", e)\n"
   ]
  },
  {
   "cell_type": "code",
   "execution_count": null,
   "id": "59994389-67b8-4203-adfa-cee5b399e2ff",
   "metadata": {},
   "outputs": [],
   "source": [
    "# Load CSV file\n",
    "df_ecom = pd.read_csv(\"Online_Retail.csv\")  \n",
    "print(df_ecom.head(2))  # Display first 3 datas"
   ]
  },
  {
   "cell_type": "code",
   "execution_count": null,
   "id": "de3282f7-74c1-4c46-b89a-6906b32e5e59",
   "metadata": {},
   "outputs": [],
   "source": [
    "# Use StringSession to avoid locked database issues\n",
    "client = TelegramClient(StringSession(), api_id, api_hash)\n",
    "\n",
    "async def scrape_telegram_data(channel_username, limit=1000):\n",
    "    try:\n",
    "        await client.start()  # Start Telegram client\n",
    "        print(\"✅ Connected to Telegram successfully!\")\n",
    "\n",
    "        messages = []\n",
    "        async for message in client.iter_messages(channel_username, limit=limit):\n",
    "            messages.append({\n",
    "                \"date\": message.date,\n",
    "                \"message\": message.text,\n",
    "                \"user_id\": message.sender_id\n",
    "            })\n",
    "\n",
    "        print(f\"Extracted {len(messages)} messages from {channel_username}\")\n",
    "        return pd.DataFrame(messages)\n",
    "\n",
    "    except Exception as e:\n",
    "        print(f\"Error extracting Telegram data: {e}\")\n",
    "        return pd.DataFrame()  # Return empty DataFrame on failure\n",
    "\n",
    "    finally:\n",
    "        await client.disconnect()  # Ensure proper session close\n",
    "\n",
    "# Run the scraper (Jupyter Notebook Compatible)\n",
    "df_telegram = await scrape_telegram_data(\"jiji_shop_ethiopia\")\n",
    "\n",
    "# Save to CSV for later use\n",
    "df_telegram.to_csv(\"telegram_messages.csv\", index=False)\n",
    "\n",
    "print(\"✅ Data saved to telegram_messages.csv\")\n",
    "print(df_telegram.head())  # Display first few messages\n"
   ]
  },
  {
   "cell_type": "code",
   "execution_count": null,
   "id": "e040d2e3-a43f-4988-8fa0-c8d58f7d0850",
   "metadata": {},
   "outputs": [],
   "source": [
    "# Clean Retail Data\n",
    "df_ecom.dropna(inplace=True)\n",
    "df_ecom.drop_duplicates(inplace=True)\n",
    "df_ecom[\"Quantity\"] = pd.to_datetime(df_ecom[\"Quantity\"])"
   ]
  },
  {
   "cell_type": "code",
   "execution_count": null,
   "id": "b702b5bb-42d8-4175-80f9-0d8610428605",
   "metadata": {},
   "outputs": [],
   "source": [
    "# Clean Telegram Data\n",
    "df_telegram.dropna(subset=[\"message\"], inplace=True)\n",
    "df_telegram.drop_duplicates(inplace=True)\n",
    "df_telegram[\"date\"] = pd.to_datetime(df_telegram[\"date\"])"
   ]
  },
  {
   "cell_type": "code",
   "execution_count": null,
   "id": "bd39bb0e-033d-471b-9269-5b4ce500dc4e",
   "metadata": {},
   "outputs": [],
   "source": [
    "#Connect to PostgreSQL\n",
    "conn = psycopg2.connect(\n",
    "    dbname=DB_NAME, user=DB_USER, password=DB_PASSWORD, host=DB_HOST, port=DB_PORT\n",
    ")\n",
    "cursor = conn.cursor()"
   ]
  },
  {
   "cell_type": "code",
   "execution_count": null,
   "id": "8d72668c-1981-4bf8-80eb-3b7d1424c651",
   "metadata": {},
   "outputs": [],
   "source": [
    "# Create Tables\n",
    "cursor.execute(\"\"\"\n",
    "    CREATE TABLE IF NOT EXISTS ecommerce (\n",
    "        order_id SERIAL PRIMARY KEY,\n",
    "        product_name TEXT,\n",
    "        category TEXT,\n",
    "        price FLOAT,\n",
    "        customer_id INT,\n",
    "        purchase_date TIMESTAMP\n",
    "    )\n",
    "\"\"\")\n",
    "\n",
    "cursor.execute(\"\"\"\n",
    "    CREATE TABLE IF NOT EXISTS telegram_messages (\n",
    "        message_id SERIAL PRIMARY KEY,\n",
    "        user_id INT,\n",
    "        message TEXT,\n",
    "        date TIMESTAMP\n",
    "    )\n",
    "\"\"\")\n",
    "conn.commit()\n"
   ]
  },
  {
   "cell_type": "code",
   "execution_count": 7,
   "id": "99da6825-5c55-4e25-a0cd-3e6df7a7e160",
   "metadata": {},
   "outputs": [
    {
     "ename": "NameError",
     "evalue": "name 'cursor' is not defined",
     "output_type": "error",
     "traceback": [
      "\u001b[1;31m---------------------------------------------------------------------------\u001b[0m",
      "\u001b[1;31mNameError\u001b[0m                                 Traceback (most recent call last)",
      "Cell \u001b[1;32mIn[7], line 3\u001b[0m\n\u001b[0;32m      1\u001b[0m \u001b[38;5;66;03m# Insert Data into PostgreSQL\u001b[39;00m\n\u001b[0;32m      2\u001b[0m \u001b[38;5;28;01mfor\u001b[39;00m _, row \u001b[38;5;129;01min\u001b[39;00m df_ecom\u001b[38;5;241m.\u001b[39miterrows():\n\u001b[1;32m----> 3\u001b[0m     \u001b[43mcursor\u001b[49m\u001b[38;5;241m.\u001b[39mexecute(\u001b[38;5;124m\"\"\"\u001b[39m\n\u001b[0;32m      4\u001b[0m \u001b[38;5;124m        INSERT INTO ecommerce (product_name, category, price, customer_id, purchase_date)\u001b[39m\n\u001b[0;32m      5\u001b[0m \u001b[38;5;124m        VALUES (\u001b[39m\u001b[38;5;132;01m%s\u001b[39;00m\u001b[38;5;124m, \u001b[39m\u001b[38;5;132;01m%s\u001b[39;00m\u001b[38;5;124m, \u001b[39m\u001b[38;5;132;01m%s\u001b[39;00m\u001b[38;5;124m, \u001b[39m\u001b[38;5;132;01m%s\u001b[39;00m\u001b[38;5;124m, \u001b[39m\u001b[38;5;132;01m%s\u001b[39;00m\u001b[38;5;124m)\u001b[39m\n\u001b[0;32m      6\u001b[0m \u001b[38;5;124m    \u001b[39m\u001b[38;5;124m\"\"\"\u001b[39m, (row[\u001b[38;5;124m\"\u001b[39m\u001b[38;5;124mproduct_name\u001b[39m\u001b[38;5;124m\"\u001b[39m], row[\u001b[38;5;124m\"\u001b[39m\u001b[38;5;124mcategory\u001b[39m\u001b[38;5;124m\"\u001b[39m], row[\u001b[38;5;124m\"\u001b[39m\u001b[38;5;124mprice\u001b[39m\u001b[38;5;124m\"\u001b[39m], row[\u001b[38;5;124m\"\u001b[39m\u001b[38;5;124mcustomer_id\u001b[39m\u001b[38;5;124m\"\u001b[39m], row[\u001b[38;5;124m\"\u001b[39m\u001b[38;5;124mdate\u001b[39m\u001b[38;5;124m\"\u001b[39m]))\n\u001b[0;32m      8\u001b[0m \u001b[38;5;28;01mfor\u001b[39;00m _, row \u001b[38;5;129;01min\u001b[39;00m df_telegram\u001b[38;5;241m.\u001b[39miterrows():\n\u001b[0;32m      9\u001b[0m     cursor\u001b[38;5;241m.\u001b[39mexecute(\u001b[38;5;124m\"\"\"\u001b[39m\n\u001b[0;32m     10\u001b[0m \u001b[38;5;124m        INSERT INTO telegram_messages (user_id, message, date)\u001b[39m\n\u001b[0;32m     11\u001b[0m \u001b[38;5;124m        VALUES (\u001b[39m\u001b[38;5;132;01m%s\u001b[39;00m\u001b[38;5;124m, \u001b[39m\u001b[38;5;132;01m%s\u001b[39;00m\u001b[38;5;124m, \u001b[39m\u001b[38;5;132;01m%s\u001b[39;00m\u001b[38;5;124m)\u001b[39m\n\u001b[0;32m     12\u001b[0m \u001b[38;5;124m    \u001b[39m\u001b[38;5;124m\"\"\"\u001b[39m, (row[\u001b[38;5;124m\"\u001b[39m\u001b[38;5;124muser_id\u001b[39m\u001b[38;5;124m\"\u001b[39m], row[\u001b[38;5;124m\"\u001b[39m\u001b[38;5;124mmessage\u001b[39m\u001b[38;5;124m\"\u001b[39m], row[\u001b[38;5;124m\"\u001b[39m\u001b[38;5;124mdate\u001b[39m\u001b[38;5;124m\"\u001b[39m]))\n",
      "\u001b[1;31mNameError\u001b[0m: name 'cursor' is not defined"
     ]
    }
   ],
   "source": [
    "# Insert Data into PostgreSQL\n",
    "for _, row in df_ecom.iterrows():\n",
    "    cursor.execute(\"\"\"\n",
    "        INSERT INTO ecommerce (product_name, category, price, customer_id, purchase_date)\n",
    "        VALUES (%s, %s, %s, %s, %s)\n",
    "    \"\"\", (row[\"product_name\"], row[\"category\"], row[\"price\"], row[\"customer_id\"], row[\"date\"]))\n",
    "\n",
    "for _, row in df_telegram.iterrows():\n",
    "    cursor.execute(\"\"\"\n",
    "        INSERT INTO telegram_messages (user_id, message, date)\n",
    "        VALUES (%s, %s, %s)\n",
    "    \"\"\", (row[\"user_id\"], row[\"message\"], row[\"date\"]))\n",
    "\n",
    "conn.commit()\n",
    "cursor.close()\n",
    "conn.close()\n"
   ]
  },
  {
   "cell_type": "code",
   "execution_count": null,
   "id": "f3ba0a94-6156-4da7-94b4-df2d98cc17ba",
   "metadata": {},
   "outputs": [],
   "source": []
  }
 ],
 "metadata": {
  "kernelspec": {
   "display_name": "Python 3 (ipykernel)",
   "language": "python",
   "name": "python3"
  },
  "language_info": {
   "codemirror_mode": {
    "name": "ipython",
    "version": 3
   },
   "file_extension": ".py",
   "mimetype": "text/x-python",
   "name": "python",
   "nbconvert_exporter": "python",
   "pygments_lexer": "ipython3",
   "version": "3.12.2"
  }
 },
 "nbformat": 4,
 "nbformat_minor": 5
}
